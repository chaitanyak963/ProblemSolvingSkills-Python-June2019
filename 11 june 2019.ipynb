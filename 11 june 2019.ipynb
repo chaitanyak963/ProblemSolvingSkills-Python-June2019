{
 "cells": [
  {
   "cell_type": "markdown",
   "metadata": {},
   "source": [
    "# Notebook Basics"
   ]
  },
  {
   "cell_type": "markdown",
   "metadata": {},
   "source": [
    "### Markdown Basics"
   ]
  },
  {
   "cell_type": "markdown",
   "metadata": {},
   "source": [
    "***IB***"
   ]
  },
  {
   "cell_type": "markdown",
   "metadata": {},
   "source": [
    "* Normal Text"
   ]
  },
  {
   "cell_type": "markdown",
   "metadata": {},
   "source": [
    "  * Sublist1\n",
    "    *sublist2"
   ]
  },
  {
   "cell_type": "markdown",
   "metadata": {},
   "source": [
    "1. Ordered List"
   ]
  },
  {
   "cell_type": "markdown",
   "metadata": {},
   "source": [
    "<img src = \"logo.png\""
   ]
  },
  {
   "cell_type": "markdown",
   "metadata": {},
   "source": [
    "<img src = \"logo.png\">"
   ]
  },
  {
   "cell_type": "markdown",
   "metadata": {},
   "source": [
    "- [ ] option 1"
   ]
  },
  {
   "cell_type": "markdown",
   "metadata": {},
   "source": [
    "<img src=\"logo.png\" style=\"float:left\">"
   ]
  },
  {
   "cell_type": "markdown",
   "metadata": {},
   "source": [
    "# Python Basics"
   ]
  },
  {
   "cell_type": "markdown",
   "metadata": {},
   "source": [
    "### pyhton version 3.7"
   ]
  },
  {
   "cell_type": "code",
   "execution_count": 19,
   "metadata": {},
   "outputs": [
    {
     "name": "stdout",
     "output_type": "stream",
     "text": [
      "GOOD AFTERNOON !\n",
      "Hello Python\n",
      "Good Afternoon Hello Python\n"
     ]
    }
   ],
   "source": [
    "print(\"GOOD AFTERNOON !\")\n",
    "print(\"Hello Python\")\n",
    "print(\"Good Afternoon\",\"Hello Python\")"
   ]
  },
  {
   "cell_type": "code",
   "execution_count": null,
   "metadata": {},
   "outputs": [],
   "source": []
  },
  {
   "cell_type": "markdown",
   "metadata": {},
   "source": [
    "### Assignment"
   ]
  },
  {
   "cell_type": "code",
   "execution_count": 23,
   "metadata": {},
   "outputs": [
    {
     "name": "stdout",
     "output_type": "stream",
     "text": [
      "123 234 345\n"
     ]
    }
   ],
   "source": [
    "n1 = 123456  # single variable assignment\n",
    "\n",
    "n4 = n2= n3 = n1 # multi variable assignment\n",
    "\n",
    "a,b,c = 123,234,345 # Multi variable assignment with differentvalues\n",
    "\n",
    "print (a,b,c)"
   ]
  },
  {
   "cell_type": "code",
   "execution_count": null,
   "metadata": {},
   "outputs": [],
   "source": []
  },
  {
   "cell_type": "markdown",
   "metadata": {},
   "source": [
    "### Arthimetic operations\n",
    "- +\n",
    "- -\n",
    "- *\n",
    "- /\n",
    "- ^\n",
    "- %"
   ]
  },
  {
   "cell_type": "code",
   "execution_count": 25,
   "metadata": {},
   "outputs": [
    {
     "data": {
      "text/plain": [
       "62"
      ]
     },
     "execution_count": 25,
     "metadata": {},
     "output_type": "execute_result"
    }
   ],
   "source": [
    "n1 % 11\n",
    "\n",
    "n3 = n2 ** 12\n",
    "\n",
    "type(n3)\n",
    "\n",
    "len(str(n3))"
   ]
  },
  {
   "cell_type": "markdown",
   "metadata": {},
   "source": [
    "### Data Types and Conversions\n",
    "* string\n",
    "* int\n",
    "* float"
   ]
  },
  {
   "cell_type": "code",
   "execution_count": 30,
   "metadata": {},
   "outputs": [
    {
     "data": {
      "text/plain": [
       "12.0"
      ]
     },
     "execution_count": 30,
     "metadata": {},
     "output_type": "execute_result"
    }
   ],
   "source": [
    "type(a)j\n",
    "s1 = \"chaitu\"\n",
    "type(s1)\n",
    "\n",
    "f1 = 12.345\n",
    "type(f1)\n",
    "\n",
    "str(int(f1))\n",
    "\n",
    "float(str(int(f1)))"
   ]
  },
  {
   "cell_type": "markdown",
   "metadata": {},
   "source": [
    "### Conditionals"
   ]
  },
  {
   "cell_type": "code",
   "execution_count": 44,
   "metadata": {},
   "outputs": [
    {
     "name": "stdout",
     "output_type": "stream",
     "text": [
      "false\n"
     ]
    }
   ],
   "source": [
    "if n3 < 10 ** 2 :\n",
    "    print(\"true\")\n",
    "else:\n",
    "    print(\"false\")"
   ]
  },
  {
   "cell_type": "code",
   "execution_count": 48,
   "metadata": {},
   "outputs": [
    {
     "name": "stdout",
     "output_type": "stream",
     "text": [
      "Enter the Number234\n",
      "Even\n"
     ]
    }
   ],
   "source": [
    "# check if a number is even\n",
    "n = int(input(\"Enter the Number\"))\n",
    "if n%2 ==0:\n",
    "    print(\"Even\")\n",
    "else:\n",
    "    print(\"odd\")"
   ]
  },
  {
   "cell_type": "code",
   "execution_count": 50,
   "metadata": {},
   "outputs": [
    {
     "name": "stdout",
     "output_type": "stream",
     "text": [
      "Enter the first Number36\n",
      "Enter the second Number54\n",
      "Enter the third Number45\n",
      "54 is the greatest\n"
     ]
    }
   ],
   "source": [
    "# Greatest of three numbers\n",
    "\n",
    "n1 = input(\"Enter the first Number\")\n",
    "n2 = input(\"Enter the second Number\")\n",
    "n3 = input(\"Enter the third Number\")\n",
    "\n",
    "if n1 > n2  and n1>n3:\n",
    "    print(n1,\"is the greatest\")\n",
    "elif n2>n3:\n",
    "    print (n2,\"is the greatest\")\n",
    "else:\n",
    "    print(n3,\"is the greatest\")"
   ]
  },
  {
   "cell_type": "code",
   "execution_count": 54,
   "metadata": {},
   "outputs": [
    {
     "name": "stdout",
     "output_type": "stream",
     "text": [
      "Enter the year2004\n",
      "2004 leap year\n"
     ]
    }
   ],
   "source": [
    "#chechk if the year is leap year\n",
    "\n",
    "year = eval(input(\"Enter the year\"))\n",
    "if year%400 == 0 or (year%100!=0 and year%4 == 0):\n",
    "    print(year,\"leap year\")\n",
    "else:\n",
    "    print(year,\"not a leap year\")\n"
   ]
  },
  {
   "cell_type": "code",
   "execution_count": 55,
   "metadata": {},
   "outputs": [
    {
     "name": "stdout",
     "output_type": "stream",
     "text": [
      "Enter the value21\n",
      "Enter the lower Bound23\n",
      "Enter the upper bound24\n",
      "outside the bound\n"
     ]
    }
   ],
   "source": [
    "#check if the given number exists in a given range\n",
    "\n",
    "n = eval(input(\"Enter the value\"))\n",
    "lb = eval(input(\"Enter the lower Bound\"))\n",
    "ub = eval(input(\"Enter the upper bound\"))\n",
    "if n>=lb and n<=ub:\n",
    "    print(\"inside the bound\")\n",
    "else:\n",
    "    print(\"outside the bound\")"
   ]
  },
  {
   "cell_type": "code",
   "execution_count": 57,
   "metadata": {},
   "outputs": [
    {
     "name": "stdout",
     "output_type": "stream",
     "text": [
      "enter the value100\n",
      "multiple of 10\n"
     ]
    }
   ],
   "source": [
    "#check if the numebr is multiple of 10\n",
    "\n",
    "n = eval(input(\"enter the value\"))\n",
    "if n% 10 == 0:\n",
    "    print(\"multiple of 10\")\n",
    "else:\n",
    "    print(\"not a multiple of 10\")\n",
    "    "
   ]
  },
  {
   "cell_type": "code",
   "execution_count": 59,
   "metadata": {},
   "outputs": [
    {
     "name": "stdout",
     "output_type": "stream",
     "text": [
      "enter the value1500\n",
      "not a factor of 1000\n"
     ]
    }
   ],
   "source": [
    "#check if the number is factor of 1000\n",
    "\n",
    "n = eval(input(\"enter the value\"))\n",
    "if n% 1000 == 0:\n",
    "    print(\"Factor of 1000\")\n",
    "else:\n",
    "    print(\"not a factor of 1000\")\n",
    "    \n"
   ]
  },
  {
   "cell_type": "code",
   "execution_count": 62,
   "metadata": {},
   "outputs": [
    {
     "name": "stdout",
     "output_type": "stream",
     "text": [
      "please Enter String123456\n",
      "please Enter number123456\n",
      "both are equal\n"
     ]
    }
   ],
   "source": [
    "#check if the given string is equal to a number\n",
    "\n",
    "n = input(\"please Enter String\")\n",
    "m = int(input(\"please Enter number\"))\n",
    "if n==str(m):\n",
    "    print(\"both are equal\")\n",
    "else:\n",
    "    print(\"both are not equal\")"
   ]
  },
  {
   "cell_type": "code",
   "execution_count": 60,
   "metadata": {},
   "outputs": [
    {
     "name": "stdout",
     "output_type": "stream",
     "text": [
      "Please Enter any Number: 1231423567\n",
      "\n",
      " Number of Digits in a Given Number = 10\n"
     ]
    }
   ],
   "source": [
    "#count the number of digits in a number\n",
    "\n",
    "Number = int(input(\"Please Enter any Number: \"))\n",
    "Count = 0\n",
    "while(Number > 0):\n",
    "    Number = Number // 10\n",
    "    Count = Count + 1\n",
    "\n",
    "print(\"\\n Number of Digits in a Given Number = %d\" %Count)"
   ]
  },
  {
   "cell_type": "code",
   "execution_count": 67,
   "metadata": {},
   "outputs": [
    {
     "name": "stdout",
     "output_type": "stream",
     "text": [
      "Enter the year2015\n",
      "31536000000000000\n"
     ]
    }
   ],
   "source": [
    "#calculate the number of micro seconds in given year\n",
    "\n",
    "\n",
    "year = eval(input(\"Enter the year\"))\n",
    "if year%400 == 0 or (year%100!=0 and year%4 == 0):\n",
    "    print(366*24*60*60*(10**9))\n",
    "else:\n",
    "    print(365*24*60*60*(10**9))"
   ]
  },
  {
   "cell_type": "code",
   "execution_count": 65,
   "metadata": {},
   "outputs": [
    {
     "name": "stdout",
     "output_type": "stream",
     "text": [
      "please enter the number4\n"
     ]
    },
    {
     "data": {
      "text/plain": [
       "2.0"
      ]
     },
     "execution_count": 65,
     "metadata": {},
     "output_type": "execute_result"
    }
   ],
   "source": [
    "#calculate the square root of a number without the prebuild functions\n",
    "\n",
    "n1 = int(input(\"please enter the number\"))\n",
    "n1 ** 0.5\n"
   ]
  },
  {
   "cell_type": "code",
   "execution_count": null,
   "metadata": {},
   "outputs": [],
   "source": []
  }
 ],
 "metadata": {
  "kernelspec": {
   "display_name": "Python 3",
   "language": "python",
   "name": "python3"
  },
  "language_info": {
   "codemirror_mode": {
    "name": "ipython",
    "version": 3
   },
   "file_extension": ".py",
   "mimetype": "text/x-python",
   "name": "python",
   "nbconvert_exporter": "python",
   "pygments_lexer": "ipython3",
   "version": "3.7.3"
  }
 },
 "nbformat": 4,
 "nbformat_minor": 2
}
