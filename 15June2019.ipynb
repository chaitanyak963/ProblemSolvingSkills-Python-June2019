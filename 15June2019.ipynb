{
 "cells": [
  {
   "cell_type": "markdown",
   "metadata": {},
   "source": [
    "# Task"
   ]
  },
  {
   "cell_type": "code",
   "execution_count": 7,
   "metadata": {},
   "outputs": [
    {
     "name": "stdout",
     "output_type": "stream",
     "text": [
      "1 10 1\n",
      "10\n"
     ]
    }
   ],
   "source": [
    "# Count Divisors\n",
    "\n",
    "def countDivisors(i,j,k):\n",
    "    count = 0;\n",
    "    for val in range(i,j+1):\n",
    "        if val%k == 0 :\n",
    "            count = count+1\n",
    "    print(count)\n",
    "    \n",
    "s = input()\n",
    "s = s.split()\n",
    "i = int(s[0])\n",
    "j = int(s[1])\n",
    "k = int(s[2])\n",
    "    \n",
    "    \n",
    "            \n",
    "countDivisors(i,j,k)"
   ]
  },
  {
   "cell_type": "code",
   "execution_count": 8,
   "metadata": {},
   "outputs": [
    {
     "name": "stdout",
     "output_type": "stream",
     "text": [
      "5\n",
      "120\n"
     ]
    }
   ],
   "source": [
    "# Factorial\n",
    "\n",
    "def factorial(n):\n",
    "    val = 1\n",
    "    for i in range(1,n+1):\n",
    "        val = val*i\n",
    "    print(val)\n",
    " \n",
    "n = int(input())\n",
    "factorial(n)"
   ]
  },
  {
   "cell_type": "code",
   "execution_count": 9,
   "metadata": {},
   "outputs": [
    {
     "name": "stdout",
     "output_type": "stream",
     "text": [
      "aba\n",
      "YES\n"
     ]
    }
   ],
   "source": [
    "# Palindromic String\n",
    "\n",
    "def palindrom(s):\n",
    "        if s == s[::-1]:\n",
    "            print(\"YES\")\n",
    "        else:\n",
    "            print(\"NO\")\n",
    "s = input()\n",
    "palindrom(s)"
   ]
  },
  {
   "cell_type": "code",
   "execution_count": 10,
   "metadata": {},
   "outputs": [
    {
     "name": "stdout",
     "output_type": "stream",
     "text": [
      "qwERTY\n",
      "QWerty\n"
     ]
    }
   ],
   "source": [
    "# Toggle String\n",
    "\n",
    "def caseConversion(s):\n",
    "    string = ''\n",
    "    for i in range(len(s)):\n",
    "        if(s[i] >= 'a' and s[i] <= 'z'): \n",
    "            string = string + chr((ord(s[i]) - 32)) \n",
    "        elif(s[i] >= 'A' and s[i] <= 'Z'):\n",
    "            string = string + chr((ord(s[i]) + 32))\n",
    "        else:\n",
    "            string = string + s[i]\n",
    "    print(string)\n",
    "    \n",
    "    \n",
    "s  = input()\n",
    "caseConversion(s)"
   ]
  },
  {
   "cell_type": "code",
   "execution_count": 18,
   "metadata": {},
   "outputs": [
    {
     "name": "stdout",
     "output_type": "stream",
     "text": [
      "qweRTY\n",
      "QWErty"
     ]
    }
   ],
   "source": [
    "Toggle String\n",
    "def a(n):\n",
    "    for i in n:\n",
    "        if i==i.upper():\n",
    "            a=i.lower()\n",
    "        if i == i.lower():\n",
    "            a = i.upper()\n",
    "        print(a,end=\"\")\n",
    "        \n",
    "n = input() \n",
    "a(n)"
   ]
  },
  {
   "cell_type": "code",
   "execution_count": 16,
   "metadata": {},
   "outputs": [
    {
     "name": "stdout",
     "output_type": "stream",
     "text": [
      "9\n",
      "2 3 5 7 "
     ]
    }
   ],
   "source": [
    "# Prime Numbers\n",
    "\n",
    "def primeNumbers(n):\n",
    "    for i in range(2,n+1):\n",
    "        count=0\n",
    "        for j in range(2,i//2+1):\n",
    "            if i%j == 0:\n",
    "                count = count+1\n",
    "                break\n",
    "        if (count == 0 and i!=1):\n",
    "            print(i,end=\" \")\n",
    "                \n",
    "n = int(input())\n",
    "primeNumbers(n)"
   ]
  },
  {
   "cell_type": "code",
   "execution_count": null,
   "metadata": {},
   "outputs": [],
   "source": [
    "# Two Strings\n",
    "def twoStrings(s1,s2):\n",
    "    if len(s1)==len(s2):\n",
    "            count=0\n",
    "            for i in range(0,len(s1)):\n",
    "                for j in range(0,len(s2)):\n",
    "                     if(s1[i]!=s2[j]):\n",
    "                         count=1\n",
    "            if(count==0):\n",
    "                print(\"YES\")\n",
    "            else:\n",
    "                print(\"NO\")\n",
    "    else :\n",
    "       print(\"NO\")\n",
    "n=int(input())\n",
    "if(n>=1 and n<=100):\n",
    "    for i in range(n):\n",
    "        s = input()\n",
    "        s=s.split()\n",
    "        if((len(s[0])>=1 and len(s[0])<=10**5) and (len(s[1])>=1 and len(s[1])<=10**5)):\n",
    "            twoStrings(s[0],s[1])\n",
    "            \n",
    "            \n",
    "            "
   ]
  },
  {
   "cell_type": "code",
   "execution_count": null,
   "metadata": {},
   "outputs": [],
   "source": [
    "# Duration\n"
   ]
  },
  {
   "cell_type": "code",
   "execution_count": null,
   "metadata": {},
   "outputs": [],
   "source": [
    "# charsum\n"
   ]
  },
  {
   "cell_type": "code",
   "execution_count": null,
   "metadata": {},
   "outputs": [],
   "source": [
    "# play with numbers\n",
    "\n"
   ]
  }
 ],
 "metadata": {
  "kernelspec": {
   "display_name": "Python 3",
   "language": "python",
   "name": "python3"
  },
  "language_info": {
   "codemirror_mode": {
    "name": "ipython",
    "version": 3
   },
   "file_extension": ".py",
   "mimetype": "text/x-python",
   "name": "python",
   "nbconvert_exporter": "python",
   "pygments_lexer": "ipython3",
   "version": "3.7.3"
  }
 },
 "nbformat": 4,
 "nbformat_minor": 2
}
