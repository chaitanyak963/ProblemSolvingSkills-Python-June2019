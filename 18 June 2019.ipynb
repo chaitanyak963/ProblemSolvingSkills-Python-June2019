{
 "cells": [
  {
   "cell_type": "code",
   "execution_count": null,
   "metadata": {},
   "outputs": [],
   "source": [
    "# Play with numbers\n",
    "\n",
    "n = input().split()\n",
    "n[0],n[1] = int(n[0]),int(n[1])\n",
    "\n",
    "a = input().split\n",
    "sum = []\n",
    "\n",
    "#Cimilative Sum\n",
    "for i in range(0,n):\n",
    "    if i == 0:\n",
    "        sum.append(int(a[i]))\n",
    "    else:\n",
    "        sum.append(int(sum[i-1])+int(a[i]))\n",
    "        \n",
    "print(sum[n[0]-1])"
   ]
  },
  {
   "cell_type": "code",
   "execution_count": null,
   "metadata": {},
   "outputs": [],
   "source": [
    "# Specail Number\n",
    "\n",
    "def isPrime(n):\n",
    "    flag  = 1\n",
    "    if n ==2:\n",
    "        return True\n",
    "    for i in range(2,n//2+1):\n",
    "        if n%i == 0:\n",
    "            flag = 0\n",
    "            return False\n",
    "    if flag == 1:\n",
    "        return True\n",
    "    \n",
    "def numberPrimeFactors(n):\n",
    "    if isPrime(n):\n",
    "        return 1\n",
    "    count = 0\n",
    "    for i in range(2,n//2+1):\n",
    "        if isPrime(i) and n % i == 0:\n",
    "            count+=1\n",
    "    return count\n",
    "\n",
    "def isSpecialNumber(n,p):\n",
    "    if numberPrimeFactors(n) >= p:\n",
    "        return True\n",
    "    return False\n",
    "\n",
    "\n",
    "numberPrimeFactors(30)\n",
    "isSpecialNumber(7,2)"
   ]
  },
  {
   "cell_type": "code",
   "execution_count": null,
   "metadata": {},
   "outputs": [],
   "source": [
    "def solution():\n",
    "    p = int(input())\n",
    "    t = int(input())\n",
    "    for i in range(0,t):\n",
    "        n = int(input())\n",
    "        if isSpecialNumber(n,p):\n",
    "            print(\"YES\")\n",
    "        else:\n",
    "            print(\"NO\")\n",
    "            \n",
    "solution()"
   ]
  },
  {
   "cell_type": "code",
   "execution_count": null,
   "metadata": {},
   "outputs": [],
   "source": [
    "# Highest Remainder\n",
    "\n",
    "def highestRemainder(n):\n",
    "    hr = 0\n",
    "    v = n\n",
    "    for i in range(n-2,n//2,-1):\n",
    "        r = n%i\n",
    "        if r>hr:\n",
    "            hr = r\n",
    "            v =i\n",
    "    print(v)\n",
    "    return\n",
    "\n",
    "highestRemainder(30)"
   ]
  },
  {
   "cell_type": "markdown",
   "metadata": {},
   "source": [
    "### Tuples\n",
    "- t1 = ()\n",
    "- li = []\n",
    "\n",
    "Difference between Lists and Tuples\n",
    "\n",
    "Lists are mutable - can be changed / modified\n",
    "- used to Access,Modify,Add,Delete data\n",
    "\n",
    "Tuples are immutable - cannot be changed once initialised\n",
    "\n",
    "- Used to access data only\n",
    "- All slicing work"
   ]
  },
  {
   "cell_type": "code",
   "execution_count": null,
   "metadata": {},
   "outputs": [],
   "source": [
    "t1 = (1,2,8,6,0)\n",
    "\n",
    "t1[3] # Accessing the Fourth element\n",
    "\n",
    "t1[len(t1)//2:] #Accessing the elements from the middle to end"
   ]
  },
  {
   "cell_type": "code",
   "execution_count": null,
   "metadata": {},
   "outputs": [],
   "source": [
    "type(t1)"
   ]
  },
  {
   "cell_type": "code",
   "execution_count": null,
   "metadata": {},
   "outputs": [],
   "source": []
  },
  {
   "cell_type": "markdown",
   "metadata": {},
   "source": [
    "### Dictionaries\n",
    "\n",
    "It works on the concept of set\n",
    "Unique Data\n",
    "\n",
    "\n",
    "Keys, Values\n",
    "Key is the unique identifier for a value\n",
    "Value is data that can be accessed with a key\n"
   ]
  },
  {
   "cell_type": "code",
   "execution_count": null,
   "metadata": {},
   "outputs": [],
   "source": [
    "d1 = {\"k1\":\"value1\",\"k2\":\"value2\"}\n",
    "\n",
    "d1[\"k2\"] #Accessing the value with key \"k2\"\n",
    "\n",
    "d1.keys() #returns the list of all keys\n",
    "\n",
    "d1.values() #returns the list of all values\n",
    "\n",
    "d1.items() #returns list of tuples of keys and values\n",
    "\n",
    "d1[\"k3\"] = \"value3\" # adding an element to the dictionary\n",
    "\n",
    "d1\n",
    "\n",
    "d1[\"k3\"] = \"values3\" # updating an element in the dictionary\n",
    "\n",
    "d1.pop(\"k3\") #Removing an element\n",
    "\n",
    "d1"
   ]
  },
  {
   "cell_type": "code",
   "execution_count": null,
   "metadata": {},
   "outputs": [],
   "source": [
    "dir(d1)"
   ]
  },
  {
   "cell_type": "markdown",
   "metadata": {},
   "source": [
    "### Contacts Application\n",
    "- Add Contact\n",
    "- Search for Contact\n",
    "- List all Contacts\n",
    "- Modify Contact\n",
    "- Removing Contact\n"
   ]
  },
  {
   "cell_type": "code",
   "execution_count": 7,
   "metadata": {},
   "outputs": [
    {
     "name": "stdout",
     "output_type": "stream",
     "text": [
      "Contact chaitu added\n"
     ]
    }
   ],
   "source": [
    "contacts = {}\n",
    "\n",
    "def addContact(name,phone):\n",
    "    #verify that the contact doesnot alreadt exist\n",
    "    if name not in contacts:\n",
    "        contacts[name] = phone\n",
    "        print(\"Contact %s added\"%name)\n",
    "    else:\n",
    "        print(\"Contact %s already exists\"%name)\n",
    "    return\n",
    "\n",
    "addContact(\"chaitu\",\"8106410134\")"
   ]
  },
  {
   "cell_type": "code",
   "execution_count": 8,
   "metadata": {},
   "outputs": [
    {
     "name": "stdout",
     "output_type": "stream",
     "text": [
      "Contact chaitu already exists\n"
     ]
    }
   ],
   "source": [
    "addContact(\"chaitu\",\"8106410134\")"
   ]
  },
  {
   "cell_type": "code",
   "execution_count": 11,
   "metadata": {},
   "outputs": [
    {
     "name": "stdout",
     "output_type": "stream",
     "text": [
      "chaitu : 8106410134\n"
     ]
    }
   ],
   "source": [
    "def searchContacts(name):\n",
    "    if name in contacts:\n",
    "        print (name,\":\",contacts[name])\n",
    "    else:\n",
    "        print(\"%s doesnot exists\"%name)\n",
    "    return\n",
    "\n",
    "searchContacts(\"chaitu\")"
   ]
  },
  {
   "cell_type": "code",
   "execution_count": null,
   "metadata": {},
   "outputs": [],
   "source": [
    "searchContacts(\"patty\")"
   ]
  },
  {
   "cell_type": "code",
   "execution_count": 10,
   "metadata": {},
   "outputs": [
    {
     "name": "stdout",
     "output_type": "stream",
     "text": [
      "{'chaitu': '8106410134'}\n"
     ]
    }
   ],
   "source": [
    "def getAll(contacts):\n",
    "    print(contacts)\n",
    "    \n",
    "getAll(contacts)"
   ]
  },
  {
   "cell_type": "code",
   "execution_count": 12,
   "metadata": {},
   "outputs": [
    {
     "name": "stdout",
     "output_type": "stream",
     "text": [
      "2 got added successfully\n"
     ]
    }
   ],
   "source": [
    "def importContacts(newContacts):\n",
    "    contacts.update(newContacts)\n",
    "    print(len(newContacts.keys()),\"got added successfully\")\n",
    "    return\n",
    "\n",
    "newContacts = {\"patty\":9876543210,\"charly\":1234567890}\n",
    "\n",
    "importContacts(newContacts)"
   ]
  },
  {
   "cell_type": "code",
   "execution_count": 17,
   "metadata": {},
   "outputs": [
    {
     "name": "stdout",
     "output_type": "stream",
     "text": [
      "Updated Successfully\n"
     ]
    }
   ],
   "source": [
    "def updatingContact(name,phone):\n",
    "    if name in contacts:\n",
    "        contacts[name] = phone\n",
    "        print(\"Updated Successfully\")\n",
    "    else:\n",
    "        print(\"contact not available\")\n",
    "    return\n",
    "\n",
    "updatingContact(\"chaitu\",8330990517)"
   ]
  },
  {
   "cell_type": "code",
   "execution_count": 21,
   "metadata": {},
   "outputs": [
    {
     "data": {
      "text/plain": [
       "{'chaitu': 8330990517, 'patty': 9876543210}"
      ]
     },
     "execution_count": 21,
     "metadata": {},
     "output_type": "execute_result"
    }
   ],
   "source": [
    "contacts"
   ]
  },
  {
   "cell_type": "code",
   "execution_count": 19,
   "metadata": {},
   "outputs": [
    {
     "name": "stdout",
     "output_type": "stream",
     "text": [
      "Contact removed\n"
     ]
    }
   ],
   "source": [
    "def removingContact(name):\n",
    "    if name in contacts:\n",
    "        contacts.pop(name)\n",
    "        print(\"Contact removed\")\n",
    "    else:\n",
    "        print(\"contact Does not Exists\")\n",
    "    return\n",
    "\n",
    "removingContact(\"charly\")"
   ]
  },
  {
   "cell_type": "code",
   "execution_count": 20,
   "metadata": {},
   "outputs": [
    {
     "data": {
      "text/plain": [
       "{'chaitu': 8330990517, 'patty': 9876543210}"
      ]
     },
     "execution_count": 20,
     "metadata": {},
     "output_type": "execute_result"
    }
   ],
   "source": [
    "contacts"
   ]
  },
  {
   "cell_type": "code",
   "execution_count": null,
   "metadata": {},
   "outputs": [],
   "source": []
  },
  {
   "cell_type": "markdown",
   "metadata": {},
   "source": [
    "### Packages and Modules\n",
    "\n",
    "Package -> Collection of Modules(Python File)\n",
    "\n",
    "Sub-Package -> \n",
    "\n",
    "Module -> A single python file containing functions\n",
    "\n",
    "Package -> Subpackages -> Modules -> Functions\n",
    "\n"
   ]
  },
  {
   "cell_type": "code",
   "execution_count": 22,
   "metadata": {},
   "outputs": [
    {
     "data": {
      "text/plain": [
       "123"
      ]
     },
     "execution_count": 22,
     "metadata": {},
     "output_type": "execute_result"
    }
   ],
   "source": [
    "import  math\n",
    "\n",
    "math.floor(123.456)"
   ]
  },
  {
   "cell_type": "code",
   "execution_count": 26,
   "metadata": {},
   "outputs": [
    {
     "data": {
      "text/plain": [
       "Type help() for interactive help, or help(object) for help about object."
      ]
     },
     "execution_count": 26,
     "metadata": {},
     "output_type": "execute_result"
    }
   ],
   "source": [
    "help"
   ]
  },
  {
   "cell_type": "code",
   "execution_count": null,
   "metadata": {},
   "outputs": [
    {
     "name": "stdout",
     "output_type": "stream",
     "text": [
      "\n",
      "Welcome to Python 3.7's help utility!\n",
      "\n",
      "If this is your first time using Python, you should definitely check out\n",
      "the tutorial on the Internet at https://docs.python.org/3.7/tutorial/.\n",
      "\n",
      "Enter the name of any module, keyword, or topic to get help on writing\n",
      "Python programs and using Python modules.  To quit this help utility and\n",
      "return to the interpreter, just type \"quit\".\n",
      "\n",
      "To get a list of available modules, keywords, symbols, or topics, type\n",
      "\"modules\", \"keywords\", \"symbols\", or \"topics\".  Each module also comes\n",
      "with a one-line summary of what it does; to list the modules whose name\n",
      "or summary contain a given string such as \"spam\", type \"modules spam\".\n",
      "\n",
      "help> modules\n",
      "\n",
      "Please wait a moment while I gather a list of all available modules...\n",
      "\n"
     ]
    },
    {
     "name": "stderr",
     "output_type": "stream",
     "text": [
      "C:\\Users\\CHAITANYA\\Anaconda3\\lib\\site-packages\\IPython\\kernel\\__init__.py:13: ShimWarning: The `IPython.kernel` package has been deprecated since IPython 4.0.You should import from ipykernel or jupyter_client instead.\n",
      "  \"You should import from ipykernel or jupyter_client instead.\", ShimWarning)\n"
     ]
    }
   ],
   "source": [
    "help()"
   ]
  },
  {
   "cell_type": "code",
   "execution_count": 3,
   "metadata": {},
   "outputs": [
    {
     "data": {
      "text/plain": [
       "3.141592653589793"
      ]
     },
     "execution_count": 3,
     "metadata": {},
     "output_type": "execute_result"
    }
   ],
   "source": [
    "import math\n",
    "\n",
    "math.pi"
   ]
  },
  {
   "cell_type": "code",
   "execution_count": null,
   "metadata": {},
   "outputs": [],
   "source": [
    "from math import floor\n",
    "\n",
    "math.floor(123.456)\n",
    "\n"
   ]
  },
  {
   "cell_type": "code",
   "execution_count": 11,
   "metadata": {},
   "outputs": [
    {
     "name": "stdout",
     "output_type": "stream",
     "text": [
      "88 2 74 23 49 65 21 9 4 74 "
     ]
    }
   ],
   "source": [
    "# Function to generate N random numbers\n",
    "\n",
    "import random\n",
    "\n",
    "def generateNRandomNumbers(n,lb,ub):\n",
    "    for i in range(0,n):\n",
    "           print(random.randint(lb,ub),end = \" \")\n",
    "        \n",
    "generateNRandomNumbers(10,0,100)"
   ]
  },
  {
   "cell_type": "code",
   "execution_count": null,
   "metadata": {},
   "outputs": [],
   "source": []
  },
  {
   "cell_type": "code",
   "execution_count": 14,
   "metadata": {},
   "outputs": [
    {
     "data": {
      "text/plain": [
       "False"
      ]
     },
     "execution_count": 14,
     "metadata": {},
     "output_type": "execute_result"
    }
   ],
   "source": [
    "from Packages import numerical\n",
    "numerical.isPrime(4)"
   ]
  },
  {
   "cell_type": "code",
   "execution_count": null,
   "metadata": {},
   "outputs": [],
   "source": []
  }
 ],
 "metadata": {
  "kernelspec": {
   "display_name": "Python 3",
   "language": "python",
   "name": "python3"
  },
  "language_info": {
   "codemirror_mode": {
    "name": "ipython",
    "version": 3
   },
   "file_extension": ".py",
   "mimetype": "text/x-python",
   "name": "python",
   "nbconvert_exporter": "python",
   "pygments_lexer": "ipython3",
   "version": "3.7.3"
  }
 },
 "nbformat": 4,
 "nbformat_minor": 2
}
