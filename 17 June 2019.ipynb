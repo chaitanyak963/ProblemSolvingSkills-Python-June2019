{
 "cells": [
  {
   "cell_type": "code",
   "execution_count": 1,
   "metadata": {},
   "outputs": [
    {
     "name": "stdout",
     "output_type": "stream",
     "text": [
      "2\n",
      "1 44 2 14\n",
      "0 30\n",
      "2 42 8 23\n",
      "5 41\n"
     ]
    }
   ],
   "source": [
    "# Duration\n",
    "\n",
    "def duration(sh,sm,eh,em):\n",
    "    smin = (sh*60)+sm\n",
    "    emin = (eh*60)+em\n",
    "    tm = emin-smin\n",
    "    h = tm//60\n",
    "    m = tm%60\n",
    "    print(h,m)\n",
    "    \n",
    "N = int(input())\n",
    "for i in range(N):\n",
    "    s = input()\n",
    "    s = s.split()\n",
    "    duration(int(s[0]),int(s[1]),int(s[2]),int(s[3]))     "
   ]
  },
  {
   "cell_type": "code",
   "execution_count": null,
   "metadata": {},
   "outputs": [],
   "source": [
    "# Play with numbers\n",
    "\n",
    "n = input().split()\n",
    "n[0],n[1] = int(n[0]),int(n[1])\n",
    "\n",
    "a = input().split\n",
    "sum = []\n",
    "\n",
    "#Cimilative Sum\n",
    "for i in range(0,n):\n",
    "    if i == 0:\n",
    "        sum.append(int(a[i]))\n",
    "    else:\n",
    "        sum.append(int(sum[i-1])+int(a[i]))\n",
    "        \n",
    "print(sum[n[0]-1])"
   ]
  },
  {
   "cell_type": "code",
   "execution_count": null,
   "metadata": {},
   "outputs": [],
   "source": [
    "# Specail Number\n",
    "\n",
    "def isPrime(n):\n",
    "    flag  = 1\n",
    "    if n ==2:\n",
    "        return True\n",
    "    for i in range(2,n//2+1):\n",
    "        if n%i == 0:\n",
    "            flag = 0\n",
    "            return False\n",
    "    if flag == 1:\n",
    "        return True\n",
    "    \n",
    "def numberPrimeFactors(n):\n",
    "    if isPrime(n):\n",
    "        return 1\n",
    "    count = 0\n",
    "    for i in range(2,n//2+1):\n",
    "        if isPrime(i) and n % i == 0:\n",
    "            count+=1\n",
    "    return count\n",
    "\n",
    "def isSpecialNumber(n,p):\n",
    "    if numberPrimeFactors(n) >= p:\n",
    "        return True\n",
    "    return False\n",
    "\n",
    "\n",
    "numberPrimeFactors(30)\n",
    "isSpecialNumber(7,2)\n"
   ]
  },
  {
   "cell_type": "code",
   "execution_count": null,
   "metadata": {},
   "outputs": [],
   "source": []
  }
 ],
 "metadata": {
  "kernelspec": {
   "display_name": "Python 3",
   "language": "python",
   "name": "python3"
  },
  "language_info": {
   "codemirror_mode": {
    "name": "ipython",
    "version": 3
   },
   "file_extension": ".py",
   "mimetype": "text/x-python",
   "name": "python",
   "nbconvert_exporter": "python",
   "pygments_lexer": "ipython3",
   "version": "3.7.3"
  }
 },
 "nbformat": 4,
 "nbformat_minor": 2
}
