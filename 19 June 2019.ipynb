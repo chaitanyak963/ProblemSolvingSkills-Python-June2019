{
 "cells": [
  {
   "cell_type": "code",
   "execution_count": 6,
   "metadata": {},
   "outputs": [
    {
     "name": "stdout",
     "output_type": "stream",
     "text": [
      "1\n",
      "9 6\n",
      "3\n",
      "1 1\n",
      "1 0\n",
      "0 1\n",
      "30\n"
     ]
    }
   ],
   "source": [
    "# cost of balloons\n",
    "\n",
    "def costOfBalloons(t,s,s1,p):\n",
    "    sum = 0\n",
    "    for i in range(p):\n",
    "        v,w = map(int,input().split())\n",
    "        if v == 1:\n",
    "            sum = sum+s\n",
    "        if w == 1:\n",
    "            sum = sum+s1\n",
    "    return sum\n",
    "    \n",
    "t = int(input())\n",
    "for i in range(t):\n",
    "    s = input().split()\n",
    "    p = int(input())\n",
    "    if i%2==0:\n",
    "        print(costOfBalloons(t,int(s[0]),int(s[1]),p))\n",
    "    else:\n",
    "        print(costOfBalloons(t,int(s[1]),int(s[0]),p))"
   ]
  },
  {
   "cell_type": "code",
   "execution_count": null,
   "metadata": {},
   "outputs": [],
   "source": []
  },
  {
   "cell_type": "code",
   "execution_count": null,
   "metadata": {},
   "outputs": [],
   "source": []
  },
  {
   "cell_type": "code",
   "execution_count": null,
   "metadata": {},
   "outputs": [],
   "source": []
  },
  {
   "cell_type": "code",
   "execution_count": null,
   "metadata": {},
   "outputs": [],
   "source": []
  },
  {
   "cell_type": "code",
   "execution_count": null,
   "metadata": {},
   "outputs": [],
   "source": [
    "# Cost of balloons\n",
    "def costOfBalloons():\n",
    "    \n",
    "    \n",
    "    \n",
    "t = int(input()) # test cases\n",
    "for i in range(t): # checking with the test cases\n",
    "    c = input().split()# Balloons cost\n",
    "    p = int(input())#Participants count\n",
    "    "
   ]
  },
  {
   "cell_type": "code",
   "execution_count": null,
   "metadata": {},
   "outputs": [],
   "source": []
  },
  {
   "cell_type": "code",
   "execution_count": null,
   "metadata": {},
   "outputs": [],
   "source": []
  },
  {
   "cell_type": "code",
   "execution_count": null,
   "metadata": {},
   "outputs": [],
   "source": []
  },
  {
   "cell_type": "code",
   "execution_count": null,
   "metadata": {},
   "outputs": [],
   "source": []
  },
  {
   "cell_type": "code",
   "execution_count": null,
   "metadata": {},
   "outputs": [],
   "source": []
  },
  {
   "cell_type": "code",
   "execution_count": null,
   "metadata": {},
   "outputs": [],
   "source": []
  },
  {
   "cell_type": "code",
   "execution_count": null,
   "metadata": {},
   "outputs": [],
   "source": []
  },
  {
   "cell_type": "code",
   "execution_count": null,
   "metadata": {},
   "outputs": [],
   "source": []
  },
  {
   "cell_type": "code",
   "execution_count": null,
   "metadata": {},
   "outputs": [],
   "source": []
  },
  {
   "cell_type": "code",
   "execution_count": null,
   "metadata": {},
   "outputs": [],
   "source": []
  }
 ],
 "metadata": {
  "kernelspec": {
   "display_name": "Python 3",
   "language": "python",
   "name": "python3"
  },
  "language_info": {
   "codemirror_mode": {
    "name": "ipython",
    "version": 3
   },
   "file_extension": ".py",
   "mimetype": "text/x-python",
   "name": "python",
   "nbconvert_exporter": "python",
   "pygments_lexer": "ipython3",
   "version": "3.7.3"
  }
 },
 "nbformat": 4,
 "nbformat_minor": 2
}
