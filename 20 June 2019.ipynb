{
 "cells": [
  {
   "cell_type": "markdown",
   "metadata": {},
   "source": [
    "### Date : 20 June 2019\n",
    "\n",
    "### Day Objectives\n",
    "- Regular Expressions\n",
    "    - Constructing Regular Expression for various use cases\n",
    "    - Regular Expression Module and related in Python\n",
    "    - improving the contacts application with name and phone number validations\n",
    "- File Handling\n",
    "    - Text Files\n",
    "    - Upgrading the Contacts Application to store contact information in a text file"
   ]
  },
  {
   "cell_type": "markdown",
   "metadata": {},
   "source": [
    "#### Regular Expressions\n",
    "\n",
    "- Pattern Matching\n",
    "- Symbolic notation of a pattern\n",
    "    - pattern : Format which repeats\n",
    "    - pattern(RE) represents The set of all strings matches that pattern\n",
    "- [0-9] -> Any digit\n",
    "- [a-z] -> Any lower case alphabet\n",
    "- [2468] -> All single digit multiples of 2\n",
    "- ^[0-9]{1}$ -> Only single digit numbers\n",
    "\n",
    "- ^[0-9]{3}$ -> Only 3 digit numbers\n",
    "\n",
    "- [0-9]*0$ -> All multiples of 10\n",
    "\n"
   ]
  },
  {
   "cell_type": "markdown",
   "metadata": {},
   "source": [
    "### All multiples of 5 except 5\n",
    "    - ^[1-9][0-9]*[05]$\n",
    "\n",
    "### All multiples of 5\n",
    "    - ^([1-9][0-9]*[05])|^([5])$\n",
    "    \n",
    "### Searching for a 'word'\n",
    "\n",
    "    -(word)\n",
    "\n",
    "### All 10 digit numbers\n",
    "    - ^[0-9]{10}$\n",
    "\n",
    "### Validating Phone Number(India)(start with 9876 followed)\n",
    "    - [6-9][0-9]{9}$\n",
    "    \n",
    "### validating number if user add 0 before the number\n",
    "    - ^[6-9][0-9]{9}$|[0][6-9][0-9]{9}\n",
    "    \n",
    "### validating number if user add +91 before number\n",
    "    - ^[6-9][0-9]{9}$|[0][6-9][0-9]{9}$|[+][9][1][6-9][0-9]{9}$"
   ]
  },
  {
   "cell_type": "markdown",
   "metadata": {},
   "source": [
    "#### Any String of length 5\n",
    "    - `^[a].....[z]$` \n",
    "#### Any string of any length\n",
    "    -^[a].*[z]$ "
   ]
  },
  {
   "cell_type": "code",
   "execution_count": 16,
   "metadata": {},
   "outputs": [
    {
     "data": {
      "text/plain": [
       "True"
      ]
     },
     "execution_count": 16,
     "metadata": {},
     "output_type": "execute_result"
    }
   ],
   "source": [
    "# function to validate a phone number\n",
    "\n",
    "import re\n",
    "\n",
    "def phoneNumberValidation(number):\n",
    "    pattern = '^[6-9][0-9]{9}$|[0][6-9][0-9]{9}$|[+][9][1][6-9][0-9]{9}$'\n",
    "    if re.match(pattern,str(number)):\n",
    "        return True\n",
    "    else:\n",
    "        return False\n",
    "\n",
    "phoneNumberValidation(8106410134)\n",
    "\n",
    "def emailValidator(email):\n",
    "    pattern = \"^[0-9a-z][0-9a-z-.]{4,13}[0-9a-z][@][a-z0-9]{3,18}[.][a-z]{2,4}$\"\n",
    "    if re.match(pattern,email):\n",
    "        return True\n",
    "    return False\n",
    "emailValidator(\"chaitanya@gmail.com\")"
   ]
  },
  {
   "cell_type": "code",
   "execution_count": 12,
   "metadata": {},
   "outputs": [
    {
     "name": "stdout",
     "output_type": "stream",
     "text": [
      "Contact chaitu added\n"
     ]
    }
   ],
   "source": [
    "contacts = {}\n",
    "\n",
    "def addContact(name,phone):\n",
    "    #verify that the contact doesnot alreadt exist\n",
    "    if name not in contacts and phoneNumberValidation(phone):\n",
    "        contacts[name] = phone\n",
    "        print(\"Contact %s added\"%name)\n",
    "    if not phoneNumberValidation(phone):\n",
    "        print(\"phone number is invalid\")\n",
    "    return\n",
    "addContact(\"chaitu\",\"8106410134\")"
   ]
  },
  {
   "cell_type": "code",
   "execution_count": 22,
   "metadata": {},
   "outputs": [
    {
     "name": "stdout",
     "output_type": "stream",
     "text": [
      "name1\n",
      "Phone : 9876543210\n",
      "Email : name123@gmail.com\n"
     ]
    }
   ],
   "source": [
    "def searchContacts(name):\n",
    "    if name in contacts:\n",
    "        print (name)\n",
    "        print(\"Phone :\",contacts[name][0])\n",
    "        print(\"Email :\",contacts[name][1])\n",
    "    else:\n",
    "        print(\"%s doesnot exists\"%name)\n",
    "    return\n",
    "\n",
    "searchContacts(\"name1\")"
   ]
  },
  {
   "cell_type": "code",
   "execution_count": 23,
   "metadata": {},
   "outputs": [
    {
     "name": "stdout",
     "output_type": "stream",
     "text": [
      "2 got added successfully\n"
     ]
    },
    {
     "data": {
      "text/plain": [
       "{'name1': [9876543210, 'name123@gmail.com'],\n",
       " 'patty': 9876543210,\n",
       " 'charly': 1234567890}"
      ]
     },
     "execution_count": 23,
     "metadata": {},
     "output_type": "execute_result"
    }
   ],
   "source": [
    "def importContacts(newContacts):\n",
    "    contacts.update(newContacts)\n",
    "    print(len(newContacts.keys()),\"got added successfully\")\n",
    "    return\n",
    "\n",
    "newContacts = {\"patty\":9876543210,\"charly\":1234567890}\n",
    "\n",
    "importContacts(newContacts)\n",
    "contacts"
   ]
  },
  {
   "cell_type": "code",
   "execution_count": 27,
   "metadata": {},
   "outputs": [],
   "source": [
    "contacts = {}\n",
    "def addcontacts(name,phone,email):\n",
    "    if name in contacts:\n",
    "        print (name,\"already exists\")\n",
    "    else:\n",
    "        if not phoneNumberValidation(phone):\n",
    "            print(\"Invalid Phone Number\")\n",
    "            return\n",
    "        if not emailValidator(email):\n",
    "            print(\"Invalid Email\")\n",
    "            return\n",
    "        newcontact = []\n",
    "        newcontact.append(phone)\n",
    "        newcontact.append(email)\n",
    "        contacts[name] = newcontact\n",
    "    return\n",
    "addcontacts(\"name1\",9876543210,\"name123@gmail.com\")"
   ]
  },
  {
   "cell_type": "code",
   "execution_count": 28,
   "metadata": {},
   "outputs": [
    {
     "name": "stdout",
     "output_type": "stream",
     "text": [
      "name1 \n",
      " Phone: 9876543210 \n",
      " Email:  name123@gmail.com\n"
     ]
    }
   ],
   "source": [
    "# function to list all contacts\n",
    "\n",
    "def listAllContacts():\n",
    "    for contact, info in contacts.items():\n",
    "        print(contact,\"\\n\",\"Phone:\",info[0],\"\\n\",\"Email: \",info[1])\n",
    "    return\n",
    "listAllContacts()\n",
    "    "
   ]
  },
  {
   "cell_type": "code",
   "execution_count": null,
   "metadata": {},
   "outputs": [],
   "source": [
    "# Function to edit contact info\n",
    "\n",
    "def editContact(name)"
   ]
  },
  {
   "cell_type": "code",
   "execution_count": null,
   "metadata": {},
   "outputs": [],
   "source": []
  },
  {
   "cell_type": "markdown",
   "metadata": {},
   "source": [
    "#### File Handling in Python\n",
    "\n",
    "File - Document containing some information residing on the permanent storage\n",
    "Types - Text,PDF,CSV etc\n",
    "\n",
    "File I/O - Channelling I/O data to files\n",
    "Default I/O Channels - Keyboard /Screen\n",
    "\n",
    "Change I/o channel to files for Reading and Writing\n",
    "\n",
    "Read a file - Input from file  \n",
    "write to a file - Output to a file\n",
    "\n",
    "Read/write file - open(filename,mode)\n",
    "\n"
   ]
  },
  {
   "cell_type": "code",
   "execution_count": 35,
   "metadata": {},
   "outputs": [
    {
     "name": "stdout",
     "output_type": "stream",
     "text": [
      "List1\n",
      "\n",
      "List2\n",
      "\n",
      "List3\n"
     ]
    }
   ],
   "source": [
    "# Fucntion to read a file\n",
    "\n",
    "def readfile(filename):\n",
    "    f = open(filename,'r')\n",
    "    filedata = f.read()\n",
    "    f.close()\n",
    "    return filedata\n",
    "\n",
    "filename = 'DataFiles/data.txt'\n",
    "\n",
    "for line in readfile(filename).split('\\n'):\n",
    "    print(line)\n"
   ]
  },
  {
   "cell_type": "code",
   "execution_count": 37,
   "metadata": {},
   "outputs": [
    {
     "name": "stdout",
     "output_type": "stream",
     "text": [
      "List1\n",
      "\n",
      "List2\n",
      "\n",
      "List3"
     ]
    }
   ],
   "source": [
    "def printFileDataLines(filename):\n",
    "    f = open(filename,'r')\n",
    "    for line in f:\n",
    "        print(line,end='')\n",
    "    return\n",
    "\n",
    "printFileDataLines(filename)"
   ]
  },
  {
   "cell_type": "code",
   "execution_count": 40,
   "metadata": {},
   "outputs": [
    {
     "name": "stdout",
     "output_type": "stream",
     "text": [
      "List1\n",
      "\n",
      "List2\n",
      "\n",
      "List3"
     ]
    }
   ],
   "source": [
    "def printFileDataLines(filename):\n",
    "    with open(filename,'r') as f:#close the file automatically or else we want to close manually use f.close()\n",
    "        for line in f:\n",
    "            print(line,end='')\n",
    "    return\n",
    "\n",
    "printFileDataLines(filename)"
   ]
  },
  {
   "cell_type": "code",
   "execution_count": 50,
   "metadata": {},
   "outputs": [],
   "source": [
    "# Fuction to write data into a file\n",
    "\n",
    "def writeIntoFile(filename,filedata):\n",
    "    with open(filename,'w') as f:\n",
    "        f.write(filedata)\n",
    "    return\n",
    "\n",
    "filename = 'DataFiles/data.txt'\n",
    "\n",
    "writeIntoFile(filename,\"new Data\")"
   ]
  },
  {
   "cell_type": "code",
   "execution_count": 51,
   "metadata": {},
   "outputs": [],
   "source": [
    "# Fuction to append data into a file\n",
    "\n",
    "def appendDatatoFile(filename,filedata):\n",
    "    with open(filename,'a') as f:\n",
    "        f.write(filedata)\n",
    "    return\n",
    "\n",
    "filename = 'DataFiles/data.txt'\n",
    "\n",
    "appendDatatoFile(filename,\"\\nnew Data one\")"
   ]
  },
  {
   "cell_type": "code",
   "execution_count": null,
   "metadata": {},
   "outputs": [],
   "source": []
  }
 ],
 "metadata": {
  "kernelspec": {
   "display_name": "Python 3",
   "language": "python",
   "name": "python3"
  },
  "language_info": {
   "codemirror_mode": {
    "name": "ipython",
    "version": 3
   },
   "file_extension": ".py",
   "mimetype": "text/x-python",
   "name": "python",
   "nbconvert_exporter": "python",
   "pygments_lexer": "ipython3",
   "version": "3.7.3"
  }
 },
 "nbformat": 4,
 "nbformat_minor": 2
}
