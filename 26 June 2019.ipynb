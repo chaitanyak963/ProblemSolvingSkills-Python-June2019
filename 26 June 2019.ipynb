{
 "cells": [
  {
   "cell_type": "code",
   "execution_count": null,
   "metadata": {},
   "outputs": [],
   "source": [
    "# Largest number in a list\n",
    "# Second largest number in a list\n",
    "# Kth largest number in a list\n",
    "\n",
    "# Element with highest frequency\n",
    "# second highest frequecy \n",
    "# Kth highest frequency"
   ]
  },
  {
   "cell_type": "code",
   "execution_count": 4,
   "metadata": {},
   "outputs": [
    {
     "data": {
      "text/plain": [
       "678"
      ]
     },
     "execution_count": 4,
     "metadata": {},
     "output_type": "execute_result"
    }
   ],
   "source": [
    "# Largest number in a list\n",
    "li = {123,234,345,456,678}\n",
    "max(li)"
   ]
  },
  {
   "cell_type": "code",
   "execution_count": 10,
   "metadata": {},
   "outputs": [
    {
     "data": {
      "text/plain": [
       "1"
      ]
     },
     "execution_count": 10,
     "metadata": {},
     "output_type": "execute_result"
    }
   ],
   "source": [
    "# Second largest number in a list \n",
    "def secLargest(li):\n",
    "    #Convert the list into a unique list\n",
    "    unique = []\n",
    "    for n in li:\n",
    "        if n not in unique:\n",
    "            unique.append(n)\n",
    "    unique = sorted(unique,reverse=True)\n",
    "    return unique[1]\n",
    "\n",
    "secLargest([1,2])"
   ]
  },
  {
   "cell_type": "code",
   "execution_count": 20,
   "metadata": {},
   "outputs": [
    {
     "data": {
      "text/plain": [
       "234"
      ]
     },
     "execution_count": 20,
     "metadata": {},
     "output_type": "execute_result"
    }
   ],
   "source": [
    "#def in fifthleast\n",
    "def fifthLeast(li):\n",
    "    unique = []\n",
    "    if len(li)>=5:\n",
    "        for n in li:\n",
    "            if n not in unique:\n",
    "                unique.append(n)\n",
    "        unique = sorted(unique,reverse=True)\n",
    "        return unique[4]\n",
    "    else:\n",
    "        print(-1)\n",
    "\n",
    "fifthLeast([123,234,345,456,567,789])"
   ]
  },
  {
   "cell_type": "code",
   "execution_count": 25,
   "metadata": {},
   "outputs": [
    {
     "data": {
      "text/plain": [
       "456"
      ]
     },
     "execution_count": 25,
     "metadata": {},
     "output_type": "execute_result"
    }
   ],
   "source": [
    "# def in klargest\n",
    "def kLargest(li,k):\n",
    "    unique = []\n",
    "    if len(li)>=k:\n",
    "        for n in li:\n",
    "            if n not in unique:\n",
    "                unique.append(n)\n",
    "        unique = sorted(unique,reverse=True)\n",
    "    else:\n",
    "        print(-1)\n",
    "    return unique[k-1]\n",
    "\n",
    "kLargest([123,234,345,456,567,789],3)"
   ]
  },
  {
   "cell_type": "code",
   "execution_count": 36,
   "metadata": {},
   "outputs": [
    {
     "name": "stdout",
     "output_type": "stream",
     "text": [
      "-1\n"
     ]
    }
   ],
   "source": [
    "#def in kSmallest\n",
    "def kSmallest(li,k):\n",
    "    try:\n",
    "        unique = []\n",
    "        if len(li)>=k and k!=0:\n",
    "            for n in li:\n",
    "                if n not in unique:\n",
    "                    unique.append(n)\n",
    "            unique = sorted(unique,reverse=False)\n",
    "        #else:\n",
    "               #print(-1)\n",
    "        return unique[k-1]\n",
    "    except:\n",
    "        print(-1)\n",
    "        \n",
    "    \n",
    "kSmallest([123,234,345,456,567,789],0)"
   ]
  },
  {
   "cell_type": "code",
   "execution_count": 40,
   "metadata": {},
   "outputs": [
    {
     "data": {
      "text/plain": [
       "1"
      ]
     },
     "execution_count": 40,
     "metadata": {},
     "output_type": "execute_result"
    }
   ],
   "source": [
    "# Function to identify the element with the highest frequency\n",
    "#many elements have the highest frequency,return\n",
    "# highestFrequecy([1,2,3,9,8,7,3,4,2,1]) ->:\n",
    "def highFrequency(li):\n",
    "    unique = {}\n",
    "    for n in li:\n",
    "        if n not in unique:\n",
    "            unique[n] = 1\n",
    "        else:\n",
    "            unique[n]+= 1\n",
    "# Getting all frequencies into a list\n",
    "    freq = unique.values()\n",
    "    maxfreq = max(freq)\n",
    "    maxfreqE = []\n",
    "\n",
    "    for item in unique.items():\n",
    "        if item[1] == maxfreq:\n",
    "            maxfreqE.append(item[0])\n",
    "    return min(maxfreqE)\n",
    "\n",
    "highFrequency([1,2,3,9,8,7,3,4,2,1])"
   ]
  },
  {
   "cell_type": "code",
   "execution_count": 45,
   "metadata": {},
   "outputs": [
    {
     "data": {
      "text/plain": [
       "3"
      ]
     },
     "execution_count": 45,
     "metadata": {},
     "output_type": "execute_result"
    }
   ],
   "source": [
    "def highFrequency(li):\n",
    "    unique = {}\n",
    "    for n in li:\n",
    "        if n not in unique:\n",
    "            unique[n] = 1\n",
    "        else:\n",
    "            unique[n]+= 1\n",
    "# Getting all frequencies into a list\n",
    "    freq = unique.values()\n",
    "    maxfreq = max(freq)\n",
    "    maxfreqE = []\n",
    "\n",
    "    for item in unique.items():\n",
    "        if item[1] == maxfreq:\n",
    "            maxfreqE.append(item[0])\n",
    "    maxfreqE = sorted(maxfreqE)\n",
    "    return maxfreqE[3-1]\n",
    "\n",
    "highFrequency([1,2,3,9,8,7,3,4,2,1])"
   ]
  },
  {
   "cell_type": "code",
   "execution_count": 60,
   "metadata": {},
   "outputs": [
    {
     "name": "stdout",
     "output_type": "stream",
     "text": [
      "[1, 2, 3]\n"
     ]
    },
    {
     "data": {
      "text/plain": [
       "1"
      ]
     },
     "execution_count": 60,
     "metadata": {},
     "output_type": "execute_result"
    }
   ],
   "source": [
    "# Function to identify second highest frequently occuring element.\n",
    "# if there are many with second highest frequently then get the small element.\n",
    "def shighFrequency(li):\n",
    "    unique = {}\n",
    "    for n in li:\n",
    "        if n not in unique:\n",
    "            unique[n] = 1\n",
    "        else:\n",
    "            unique[n]+= 1\n",
    "    freq = unique.values()\n",
    "    sfreq = sorted(list(set(freq)))\n",
    "   ## print(sfreq)\n",
    "    maxfreq = sfreq[-2]\n",
    "    maxfreqE = []\n",
    "    for item in unique.items():\n",
    "        if item[1] == maxfreq:\n",
    "            maxfreqE.append(item[0])\n",
    "    maxfreqE = sorted(maxfreqE)\n",
    "    return min(maxfreqE)\n",
    "\n",
    "shighFrequency([1,2,3,2,1,4,4,9,9,9])"
   ]
  },
  {
   "cell_type": "code",
   "execution_count": 88,
   "metadata": {},
   "outputs": [
    {
     "name": "stdout",
     "output_type": "stream",
     "text": [
      "s\n",
      "g\n",
      "h\n",
      "e\n",
      "w\n",
      "r\n",
      "n\n",
      "k\n",
      "-1\n",
      "-1\n"
     ]
    }
   ],
   "source": [
    "# Function to identify k highest frequently occuring element.\n",
    "def khighFrequency(li,k):\n",
    "    unique = {}\n",
    "    for n in li:\n",
    "        if n not in unique:\n",
    "            unique[n] = 1\n",
    "        else:\n",
    "            unique[n]+= 1\n",
    "    freq = unique.values()\n",
    "    kfreq = sorted(list(set(freq)))\n",
    "   # print(kfreq)\n",
    "    if k<len(kfreq):\n",
    "        maxfreq = kfreq[-k]\n",
    "    else:\n",
    "        return -1\n",
    "   # print(maxfreq)\n",
    "    maxfreqE = []\n",
    "    for item in unique.items():\n",
    "        if item[1] == maxfreq:\n",
    "            maxfreqE.append(item[0])\n",
    "          #  print(maxfreqE)\n",
    "    maxfreqE = sorted(maxfreqE)\n",
    "    return min(maxfreqE)\n",
    "\n",
    "with open('./DataFiles/input.txt', 'r') as f:\n",
    "    t = int(f.readline())\n",
    "    for i in range(t):\n",
    "        s = f.readline()\n",
    "        k = int(f.readline())\n",
    "        print(khighFrequency(s,k))"
   ]
  },
  {
   "cell_type": "code",
   "execution_count": 78,
   "metadata": {},
   "outputs": [
    {
     "data": {
      "text/plain": [
       "2"
      ]
     },
     "execution_count": 78,
     "metadata": {},
     "output_type": "execute_result"
    }
   ],
   "source": [
    "# Function to identify k lowest frequently occuring element.\n",
    "def klowFrequency(li,k):\n",
    "    unique = {}\n",
    "    for n in li:\n",
    "        if n not in unique:\n",
    "            unique[n] = 1\n",
    "        else:\n",
    "            unique[n]+= 1\n",
    "    freq = unique.values()\n",
    "    kfreq = sorted(list(set(freq)))\n",
    "   ## print(kfreq)\n",
    "    maxfreq = kfreq[k]\n",
    "    maxfreqE = []\n",
    "    for item in unique.items():\n",
    "        if item[1] == maxfreq:\n",
    "            maxfreqE.append(item[0])\n",
    "    maxfreqE = sorted(maxfreqE)\n",
    "    return min(maxfreqE)\n",
    "\n",
    "klowFrequency([9,8,7,6,5,2,3,4,9,6,7,7,7,6,7,6],0)"
   ]
  },
  {
   "cell_type": "code",
   "execution_count": 93,
   "metadata": {},
   "outputs": [
    {
     "data": {
      "text/plain": [
       "-1"
      ]
     },
     "execution_count": 93,
     "metadata": {},
     "output_type": "execute_result"
    }
   ],
   "source": [
    "def khighFrequency(li,k):\n",
    "    unique = {}\n",
    "    for n in li:\n",
    "        if n not in unique:\n",
    "            unique[n] = 1\n",
    "        else:\n",
    "            unique[n]+= 1\n",
    "    freq = unique.values()\n",
    "    kfreq = sorted(list(set(freq)))\n",
    "   # print(kfreq)\n",
    "    if k<len(kfreq):\n",
    "        maxfreq = kfreq[-k] \n",
    "    else:\n",
    "        return -1\n",
    "   # print(maxfreq)\n",
    "    maxfreqE = []\n",
    "    for item in unique.items():\n",
    "        if item[1] == maxfreq:\n",
    "            maxfreqE.append(item[0])\n",
    "          #  print(maxfreqE)\n",
    "    maxfreqE = sorted(maxfreqE)\n",
    "    return min(maxfreqE)\n",
    "khighFrequency([9,8,7,6,5,2,3,4,9,6,7,7,7,6],4)"
   ]
  },
  {
   "cell_type": "code",
   "execution_count": null,
   "metadata": {},
   "outputs": [],
   "source": []
  }
 ],
 "metadata": {
  "kernelspec": {
   "display_name": "Python 3",
   "language": "python",
   "name": "python3"
  },
  "language_info": {
   "codemirror_mode": {
    "name": "ipython",
    "version": 3
   },
   "file_extension": ".py",
   "mimetype": "text/x-python",
   "name": "python",
   "nbconvert_exporter": "python",
   "pygments_lexer": "ipython3",
   "version": "3.7.3"
  }
 },
 "nbformat": 4,
 "nbformat_minor": 2
}
